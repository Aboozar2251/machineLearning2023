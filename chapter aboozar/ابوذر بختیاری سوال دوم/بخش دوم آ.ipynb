{
  "cells": [
    {
      "cell_type": "code",
      "execution_count": 36,
      "metadata": {
        "id": "fD1I38wXkSn1"
      },
      "outputs": [],
      "source": [
        "#ابوذر بختیاری برزیده\n",
        "\n",
        "import scipy.io\n",
        "import numpy as np\n",
        "import pandas as pd\n",
        "import scipy.io as sio\n",
        "from scipy.signal import find_peaks\n",
        "from scipy.stats import kurtosis\n",
        "from sklearn.model_selection import train_test_split\n"
      ]
    },
    {
      "cell_type": "code",
      "execution_count": 1,
      "metadata": {
        "colab": {
          "base_uri": "https://localhost:8080/",
          "height": 0
        },
        "id": "-zH2vnXtmlxl",
        "outputId": "e45573c4-15a0-4931-92b3-166f08923c8e"
      },
      "outputs": [
        {
          "name": "stdout",
          "output_type": "stream",
          "text": [
            "Mounted at /content/drive\n",
            "Requirement already satisfied: gdown in /usr/local/lib/python3.10/dist-packages (4.7.3)\n",
            "Collecting gdown\n",
            "  Downloading gdown-5.1.0-py3-none-any.whl (17 kB)\n",
            "Requirement already satisfied: beautifulsoup4 in /usr/local/lib/python3.10/dist-packages (from gdown) (4.12.3)\n",
            "Requirement already satisfied: filelock in /usr/local/lib/python3.10/dist-packages (from gdown) (3.13.4)\n",
            "Requirement already satisfied: requests[socks] in /usr/local/lib/python3.10/dist-packages (from gdown) (2.31.0)\n",
            "Requirement already satisfied: tqdm in /usr/local/lib/python3.10/dist-packages (from gdown) (4.66.2)\n",
            "Requirement already satisfied: soupsieve>1.2 in /usr/local/lib/python3.10/dist-packages (from beautifulsoup4->gdown) (2.5)\n",
            "Requirement already satisfied: charset-normalizer<4,>=2 in /usr/local/lib/python3.10/dist-packages (from requests[socks]->gdown) (3.3.2)\n",
            "Requirement already satisfied: idna<4,>=2.5 in /usr/local/lib/python3.10/dist-packages (from requests[socks]->gdown) (3.6)\n",
            "Requirement already satisfied: urllib3<3,>=1.21.1 in /usr/local/lib/python3.10/dist-packages (from requests[socks]->gdown) (2.0.7)\n",
            "Requirement already satisfied: certifi>=2017.4.17 in /usr/local/lib/python3.10/dist-packages (from requests[socks]->gdown) (2024.2.2)\n",
            "Requirement already satisfied: PySocks!=1.5.7,>=1.5.6 in /usr/local/lib/python3.10/dist-packages (from requests[socks]->gdown) (1.7.1)\n",
            "Installing collected packages: gdown\n",
            "  Attempting uninstall: gdown\n",
            "    Found existing installation: gdown 4.7.3\n",
            "    Uninstalling gdown-4.7.3:\n",
            "      Successfully uninstalled gdown-4.7.3\n",
            "Successfully installed gdown-5.1.0\n",
            "/usr/local/lib/python3.10/dist-packages/gdown/download.py:32: MarkupResemblesLocatorWarning: The input looks more like a filename than markup. You may want to open this file and pass the filehandle into Beautiful Soup.\n",
            "  soup = bs4.BeautifulSoup(line, features=\"html.parser\")\n",
            "Failed to retrieve file url:\n",
            "\n",
            "\tCannot retrieve the public link of the file. You may need to change\n",
            "\tthe permission to 'Anyone with the link', or have had many accesses.\n",
            "\tCheck FAQ in https://github.com/wkentaro/gdown?tab=readme-ov-file#faq.\n",
            "\n",
            "You may still be able to access the file from the browser:\n",
            "\n",
            "\thttps://drive.google.com/uc?id=15CfPVJJlfJajLqXYvIf1ObkqrLiWAp45\n",
            "\n",
            "but Gdown can't. Please check connections and permissions.\n"
          ]
        }
      ],
      "source": [
        "from google.colab import drive\n",
        "drive.mount('/content/drive')\n",
        "!pip install --upgrade --no-cache-dir gdown\n",
        "!gdown 15CfPVJJlfJajLqXYvIf1ObkqrLiWAp45\n"
      ]
    },
    {
      "cell_type": "code",
      "execution_count": 6,
      "metadata": {
        "id": "Slz7pg27lUMW"
      },
      "outputs": [],
      "source": [
        "data99 = scipy.io.loadmat('/content/drive/MyDrive/machine-learning/mini project 1/2-1/99.mat')\n",
        "data106 = scipy.io.loadmat('/content/drive/MyDrive/machine-learning/mini project 1/2-1/106.mat')"
      ]
    },
    {
      "cell_type": "code",
      "execution_count": 7,
      "metadata": {
        "colab": {
          "base_uri": "https://localhost:8080/",
          "height": 0
        },
        "id": "U2bBiQy_sqYG",
        "outputId": "b25484bc-15d8-4d73-e4b6-00723acc64ee"
      },
      "outputs": [
        {
          "name": "stdout",
          "output_type": "stream",
          "text": [
            "number of data in X106_DE_time(fault) :121991\n",
            "number of data in X099_DE_time(normal) :485063\n"
          ]
        }
      ],
      "source": [
        "normal = data99['X099_DE_time']\n",
        "fault1 = data106['X106_DE_time']\n",
        "print(f'number of data in X106_DE_time(fault) :{fault1.size}')\n",
        "print(f'number of data in X099_DE_time(normal) :{normal.size}')\n",
        "\n",
        "\n"
      ]
    },
    {
      "cell_type": "code",
      "execution_count": 8,
      "metadata": {
        "colab": {
          "base_uri": "https://localhost:8080/",
          "height": 0
        },
        "id": "1_xSecikyKBO",
        "outputId": "7c75fa31-4fc7-4332-ab79-fce5978fb0bc"
      },
      "outputs": [
        {
          "name": "stdout",
          "output_type": "stream",
          "text": [
            "(485063, 1)\n",
            "[[ 0.06425354]\n",
            " [ 0.06300185]\n",
            " [-0.00438092]\n",
            " ...\n",
            " [ 0.00521538]\n",
            " [-0.06571385]\n",
            " [-0.12266585]]\n"
          ]
        }
      ],
      "source": [
        "print(normal.shape)\n",
        "print(normal)"
      ]
    },
    {
      "cell_type": "code",
      "execution_count": 9,
      "metadata": {
        "colab": {
          "base_uri": "https://localhost:8080/",
          "height": 0
        },
        "id": "s6NybzBV4sZz",
        "outputId": "051537ea-b3b6-4844-d4d3-799e930d4433"
      },
      "outputs": [
        {
          "name": "stdout",
          "output_type": "stream",
          "text": [
            "(275, 300)\n",
            "(275, 300)\n"
          ]
        }
      ],
      "source": [
        "N = 275\n",
        "M = 300\n",
        "C1 = np.array([normal[N * i:N * (i + 1)] for i in range(M)]).reshape(N, M)\n",
        "C2 = np.array([fault1[N * i:N * (i + 1)] for i in range(M)]).reshape(N, M)\n",
        "print(C1.shape)\n",
        "print(C2.shape)"
      ]
    },
    {
      "cell_type": "code",
      "execution_count": 10,
      "metadata": {
        "colab": {
          "base_uri": "https://localhost:8080/",
          "height": 0
        },
        "id": "VeBBIFMkyb5G",
        "outputId": "481a33f2-cc2d-4333-9a4f-29b574df2a24"
      },
      "outputs": [
        {
          "data": {
            "text/plain": [
              "(550, 300)"
            ]
          },
          "execution_count": 10,
          "metadata": {},
          "output_type": "execute_result"
        }
      ],
      "source": [
        "X = np.vstack((C1, C2))\n",
        "X.shape"
      ]
    },
    {
      "cell_type": "markdown",
      "metadata": {
        "id": "1-oxAFSd9oWd"
      },
      "source": [
        "#2_b"
      ]
    },
    {
      "cell_type": "code",
      "execution_count": 12,
      "metadata": {
        "colab": {
          "base_uri": "https://localhost:8080/",
          "height": 0
        },
        "id": "9K97XhR_4bEE",
        "outputId": "e3628d31-29ae-4cfc-ae39-9c7be8eef894"
      },
      "outputs": [
        {
          "data": {
            "text/plain": [
              "(550, 8)"
            ]
          },
          "execution_count": 12,
          "metadata": {},
          "output_type": "execute_result"
        }
      ],
      "source": [
        "data_std = np.std(X, axis=1, keepdims=True)\n",
        "data_rms = np.sqrt(np.mean(np.square(X), axis=1)).reshape(-1, 1)\n",
        "data_peak=np.max(np.abs(X), axis=1).reshape(-1, 1)\n",
        "data_abs_mean=np.mean(np.abs(X), axis=1).reshape(-1, 1)\n",
        "data_impact_factor = np.max(np.abs(X), axis=1).reshape(-1, 1) / np.mean(np.abs(X), axis=1).reshape(-1, 1)\n",
        "data_smr= np.square(np.mean(np.sqrt(np.abs(X)), axis=1)).reshape(-1, 1)\n",
        "data_skewness= np.mean(((X - np.mean(X, axis=1, keepdims=True)) ** 3) / (np.std(X, axis=1, keepdims=True) ** 3), axis=1).reshape(-1, 1)\n",
        "data_cf=np.max(np.abs(X), axis=1).reshape(-1, 1) / np.sqrt(np.mean(np.square(X), axis=1)).reshape(-1, 1)\n",
        "\n",
        "\n",
        "X_new = np.hstack([data_std, data_rms,data_peak,data_abs_mean,data_impact_factor,data_smr,data_skewness,data_cf])\n",
        "X_new.shape"
      ]
    },
    {
      "cell_type": "code",
      "execution_count": 14,
      "metadata": {
        "colab": {
          "base_uri": "https://localhost:8080/",
          "height": 0
        },
        "id": "FVaRbyemzsEl",
        "outputId": "3e1d60bd-d2b6-433d-d494-8dd6575ac2e9"
      },
      "outputs": [
        {
          "data": {
            "text/plain": [
              "array([204, 241, 237, 100, 173, 202, 198, 158,  23, 190, 211,   7, 221,\n",
              "       201, 251, 266,  69,   8, 217, 126, 168, 104,  92, 197,  11, 263,\n",
              "       210,  83, 213,  15,  26, 188, 231, 257, 271, 119,   0,  51, 128,\n",
              "       162,  89, 116, 178, 108,  81, 154, 156, 142, 160, 151,  70, 258,\n",
              "       106, 206, 192])"
            ]
          },
          "execution_count": 14,
          "metadata": {},
          "output_type": "execute_result"
        }
      ],
      "source": [
        "def data_split(X, per):\n",
        "    limit = int(len(X) * per)\n",
        "    idx = np.random.permutation(len(X))\n",
        "    return idx[:limit], idx[limit:]\n",
        "\n",
        "d_train = 0.8\n",
        "i_train1, i_test1 = data_split(X_new[:N], d_train)\n",
        "i_train2, i_test2 = data_split(X_new[N:], d_train)\n",
        "i_test1"
      ]
    },
    {
      "cell_type": "code",
      "execution_count": 15,
      "metadata": {
        "colab": {
          "base_uri": "https://localhost:8080/",
          "height": 0
        },
        "id": "J1LNk-Tjzx3s",
        "outputId": "98b4cffa-4336-4317-d21e-15abacfbd1e6"
      },
      "outputs": [
        {
          "name": "stdout",
          "output_type": "stream",
          "text": [
            "data_1 X_train:  (440, 8)\n",
            "data 1 y_train:  (440, 1)\n",
            "data_2 X_test:  (110, 8)\n",
            "data_2 y_test:  (110, 1)\n"
          ]
        }
      ],
      "source": [
        "C1_train, C1_test = X_new[:N][i_train1], X_new[:N][i_test1]\n",
        "C2_train, C2_test = X_new[N:][i_train2], X_new[N:][i_test2]\n",
        "\n",
        "X_train = np.vstack((C1_train, C2_train))\n",
        "y_train = np.vstack((np.ones((len(C1_train), 1)), 2 * np.ones((len(C2_train), 1))))\n",
        "X_test = np.vstack((C1_test, C2_test))\n",
        "y_test = np.vstack((np.ones((len(C1_test), 1)), 2 * np.ones((len(C2_test), 1))))\n",
        "\n",
        "print('data_1 X_train: ', X_train.shape)\n",
        "print('data 1 y_train: ', y_train.shape)\n",
        "print('data_2 X_test: ', X_test.shape)\n",
        "print('data_2 y_test: ', y_test.shape)"
      ]
    },
    {
      "cell_type": "code",
      "execution_count": 16,
      "metadata": {
        "colab": {
          "base_uri": "https://localhost:8080/",
          "height": 0
        },
        "id": "JiqxBHmFz0m-",
        "outputId": "7d1150cc-936e-48c2-fee1-6d68261b465f"
      },
      "outputs": [
        {
          "name": "stdout",
          "output_type": "stream",
          "text": [
            "(440, 8)\n",
            "(110, 8)\n"
          ]
        }
      ],
      "source": [
        "def Preprocessing(data):\n",
        "    mu = np.mean(data, axis=0)\n",
        "    sigma = np.std(data, axis=0)\n",
        "    return (data - mu) / sigma\n",
        "\n",
        "\n",
        "X_train = Preprocessing(X_train)\n",
        "X_test = Preprocessing(X_test)\n",
        "\n",
        "print(X_train.shape)\n",
        "print(X_test.shape)\n"
      ]
    },
    {
      "cell_type": "code",
      "execution_count": 25,
      "metadata": {
        "id": "whOtIUuf0IG1"
      },
      "outputs": [],
      "source": [
        "train_df = pd.DataFrame(np.hstack((X_train, y_train.reshape(-1, 1))), columns=[f'Feature {i+1}' for i in range(X_train.shape[1])] + ['Label'])\n",
        "test_df = pd.DataFrame(np.hstack((X_test, y_test.reshape(-1, 1))), columns=[f'Feature {i+1}' for i in range(X_test.shape[1])] + ['Label'])\n",
        "\n",
        "train_df.to_csv('/content/drive/MyDrive/machine-learning/mini project 1/2-1/train_data.csv', index=False)\n",
        "test_df.to_csv('/content/drive/MyDrive/machine-learning/mini project 1/2-1/test_data.csv', index=False)\n"
      ]
    },
    {
      "cell_type": "code",
      "execution_count": 26,
      "metadata": {
        "colab": {
          "base_uri": "https://localhost:8080/",
          "height": 0
        },
        "id": "3CdBN_Az1NxD",
        "outputId": "5c49aaed-6933-4f4d-d5e9-7632cd214eec"
      },
      "outputs": [
        {
          "name": "stdout",
          "output_type": "stream",
          "text": [
            "(110, 9)\n",
            "Index(['Feature 1', 'Feature 2', 'Feature 3', 'Feature 4', 'Feature 5',\n",
            "       'Feature 6', 'Feature 7', 'Feature 8', 'Label'],\n",
            "      dtype='object')\n"
          ]
        }
      ],
      "source": [
        "print(test_df.shape)\n",
        "print(test_df.columns)"
      ]
    },
    {
      "cell_type": "code",
      "execution_count": 29,
      "metadata": {
        "id": "Ed3hQ-wD1RYK"
      },
      "outputs": [],
      "source": [
        "df_test = pd.read_csv('/content/drive/MyDrive/machine-learning/mini project 1/2-1/test_data.csv')\n",
        "df_train = pd.read_csv('/content/drive/MyDrive/machine-learning/mini project 1/2-1/train_data.csv')"
      ]
    },
    {
      "cell_type": "code",
      "execution_count": 32,
      "metadata": {
        "colab": {
          "base_uri": "https://localhost:8080/",
          "height": 0
        },
        "id": "k-j5AWmE2Hdl",
        "outputId": "a10cf80c-782b-45d4-cb7d-ec719f317022"
      },
      "outputs": [
        {
          "data": {
            "text/plain": [
              "(     data_std  data_rms  data_skewness  data_peak  data_crest_factor  \\\n",
              " 0   -1.025978 -1.029674      -1.049263  -1.027836          -1.327488   \n",
              " 1   -1.020124 -1.017617      -1.010330  -1.012379          -1.076059   \n",
              " 2   -0.960396 -0.953579      -0.964074  -0.945366          -0.970356   \n",
              " 3   -0.927825 -0.923558      -0.885439  -0.936504          -0.456529   \n",
              " 4   -1.047793 -1.044694      -0.989900  -1.052611          -0.753376   \n",
              " ..        ...       ...            ...        ...                ...   \n",
              " 105  1.140576  1.141065       1.036517   1.129965           0.798097   \n",
              " 106  1.051762  1.051911       1.031115   1.050452           0.911125   \n",
              " 107  0.979466  0.979250       1.035617   0.910155           1.154822   \n",
              " 108  1.022011  1.021796       0.944375   1.044927           0.760348   \n",
              " 109  1.013423  1.013794       0.833623   1.092389           0.488514   \n",
              " \n",
              "      data_absolute_mean  data_impact_factor  data_square_mean_root  label  \n",
              " 0             -1.029583           -0.502789              -1.417648    1.0  \n",
              " 1             -1.010444           -1.612812              -1.061388    1.0  \n",
              " 2             -0.936627           -0.826367              -0.961685    1.0  \n",
              " 3             -0.944833           -3.110311              -0.398058    1.0  \n",
              " 4             -1.058789            0.285232              -0.655097    1.0  \n",
              " ..                  ...                 ...                    ...    ...  \n",
              " 105            1.122252            0.953917               0.727520    2.0  \n",
              " 106            1.033772            1.368429               0.887659    2.0  \n",
              " 107            0.859842            1.373214               1.046811    2.0  \n",
              " 108            1.063828            1.013484               0.753995    2.0  \n",
              " 109            1.149593           -0.182727               0.520827    2.0  \n",
              " \n",
              " [110 rows x 9 columns],\n",
              "      data_std  data_rms  data_skewness  data_peak  data_crest_factor  \\\n",
              " 0   -1.050026 -1.044754      -0.965827  -1.053862          -0.537430   \n",
              " 1   -0.989737 -0.993615      -0.941380  -0.982450          -0.665369   \n",
              " 2   -0.969763 -0.971200      -0.985542  -0.968835          -1.043903   \n",
              " 3   -0.997048 -1.004113      -0.998160  -0.996011          -1.040172   \n",
              " 4   -0.913342 -0.907035      -0.985542  -0.885209          -1.307125   \n",
              " ..        ...       ...            ...        ...                ...   \n",
              " 435  1.011497  1.011438       0.942093   1.065198           0.713036   \n",
              " 436  1.099204  1.099534       0.887136   1.088011           0.577038   \n",
              " 437  1.290007  1.291159       0.854284   1.275573           0.260996   \n",
              " 438  1.044969  1.044870       1.227009   0.964570           1.423039   \n",
              " 439  0.921661  0.921288       1.262624   0.852134           1.714340   \n",
              " \n",
              "      data_absolute_mean  data_impact_factor  data_square_mean_root  label  \n",
              " 0             -1.060768           -0.961644              -0.359791    1.0  \n",
              " 1             -0.964592            0.183660              -0.473746    1.0  \n",
              " 2             -0.970309           -0.770726              -1.066610    1.0  \n",
              " 3             -0.986062           -0.920402              -1.001041    1.0  \n",
              " 4             -0.875153           -0.512410              -1.397108    1.0  \n",
              " ..                  ...                 ...                    ...    ...  \n",
              " 435            1.059742            1.058497               0.743887    2.0  \n",
              " 436            1.055123            1.123040               0.452034    2.0  \n",
              " 437            1.237382            0.773212               0.057587    2.0  \n",
              " 438            0.916024            1.370652               1.318112    2.0  \n",
              " 439            0.805482            1.829374               1.687760    2.0  \n",
              " \n",
              " [440 rows x 9 columns])"
            ]
          },
          "execution_count": 32,
          "metadata": {},
          "output_type": "execute_result"
        }
      ],
      "source": [
        "df_test, df_train"
      ]
    },
    {
      "cell_type": "code",
      "execution_count": 33,
      "metadata": {
        "colab": {
          "base_uri": "https://localhost:8080/",
          "height": 0
        },
        "id": "yDLMWVbC1_Bg",
        "outputId": "f9cc9169-439e-4ddb-9ead-f7f73b9e6a6e"
      },
      "outputs": [
        {
          "data": {
            "text/plain": [
              "(     data_std  data_rms  data_skewness  data_peak  data_crest_factor  \\\n",
              " 0   -1.025978 -1.029674      -1.049263  -1.027836          -1.327488   \n",
              " 1   -1.020124 -1.017617      -1.010330  -1.012379          -1.076059   \n",
              " 2   -0.960396 -0.953579      -0.964074  -0.945366          -0.970356   \n",
              " 3   -0.927825 -0.923558      -0.885439  -0.936504          -0.456529   \n",
              " 4   -1.047793 -1.044694      -0.989900  -1.052611          -0.753376   \n",
              " ..        ...       ...            ...        ...                ...   \n",
              " 105  1.140576  1.141065       1.036517   1.129965           0.798097   \n",
              " 106  1.051762  1.051911       1.031115   1.050452           0.911125   \n",
              " 107  0.979466  0.979250       1.035617   0.910155           1.154822   \n",
              " 108  1.022011  1.021796       0.944375   1.044927           0.760348   \n",
              " 109  1.013423  1.013794       0.833623   1.092389           0.488514   \n",
              " \n",
              "      data_absolute_mean  data_impact_factor  data_square_mean_root  label  \n",
              " 0             -1.029583           -0.502789              -1.417648    1.0  \n",
              " 1             -1.010444           -1.612812              -1.061388    1.0  \n",
              " 2             -0.936627           -0.826367              -0.961685    1.0  \n",
              " 3             -0.944833           -3.110311              -0.398058    1.0  \n",
              " 4             -1.058789            0.285232              -0.655097    1.0  \n",
              " ..                  ...                 ...                    ...    ...  \n",
              " 105            1.122252            0.953917               0.727520    2.0  \n",
              " 106            1.033772            1.368429               0.887659    2.0  \n",
              " 107            0.859842            1.373214               1.046811    2.0  \n",
              " 108            1.063828            1.013484               0.753995    2.0  \n",
              " 109            1.149593           -0.182727               0.520827    2.0  \n",
              " \n",
              " [110 rows x 9 columns],\n",
              "      data_std  data_rms  data_skewness  data_peak  data_crest_factor  \\\n",
              " 0   -1.050026 -1.044754      -0.965827  -1.053862          -0.537430   \n",
              " 1   -0.989737 -0.993615      -0.941380  -0.982450          -0.665369   \n",
              " 2   -0.969763 -0.971200      -0.985542  -0.968835          -1.043903   \n",
              " 3   -0.997048 -1.004113      -0.998160  -0.996011          -1.040172   \n",
              " 4   -0.913342 -0.907035      -0.985542  -0.885209          -1.307125   \n",
              " ..        ...       ...            ...        ...                ...   \n",
              " 435  1.011497  1.011438       0.942093   1.065198           0.713036   \n",
              " 436  1.099204  1.099534       0.887136   1.088011           0.577038   \n",
              " 437  1.290007  1.291159       0.854284   1.275573           0.260996   \n",
              " 438  1.044969  1.044870       1.227009   0.964570           1.423039   \n",
              " 439  0.921661  0.921288       1.262624   0.852134           1.714340   \n",
              " \n",
              "      data_absolute_mean  data_impact_factor  data_square_mean_root  label  \n",
              " 0             -1.060768           -0.961644              -0.359791    1.0  \n",
              " 1             -0.964592            0.183660              -0.473746    1.0  \n",
              " 2             -0.970309           -0.770726              -1.066610    1.0  \n",
              " 3             -0.986062           -0.920402              -1.001041    1.0  \n",
              " 4             -0.875153           -0.512410              -1.397108    1.0  \n",
              " ..                  ...                 ...                    ...    ...  \n",
              " 435            1.059742            1.058497               0.743887    2.0  \n",
              " 436            1.055123            1.123040               0.452034    2.0  \n",
              " 437            1.237382            0.773212               0.057587    2.0  \n",
              " 438            0.916024            1.370652               1.318112    2.0  \n",
              " 439            0.805482            1.829374               1.687760    2.0  \n",
              " \n",
              " [440 rows x 9 columns])"
            ]
          },
          "execution_count": 33,
          "metadata": {},
          "output_type": "execute_result"
        }
      ],
      "source": [
        "df_test.columns = ['data_std', 'data_rms', 'data_skewness', 'data_peak', 'data_crest_factor', 'data_absolute_mean','data_impact_factor','data_square_mean_root', 'label']\n",
        "df_train.columns = ['data_std', 'data_rms', 'data_skewness', 'data_peak', 'data_crest_factor', 'data_absolute_mean','data_impact_factor','data_square_mean_root', 'label']\n",
        "\n",
        "df_test, df_train"
      ]
    },
    {
      "cell_type": "markdown",
      "metadata": {
        "id": "8nhmty2JY-vf"
      },
      "source": [
        "#**2-3**"
      ]
    },
    {
      "cell_type": "code",
      "execution_count": 34,
      "metadata": {
        "colab": {
          "base_uri": "https://localhost:8080/",
          "height": 0
        },
        "id": "X5dfCHPH1-Le",
        "outputId": "ed355e0e-a52f-4e41-fb37-21b562d583bd"
      },
      "outputs": [
        {
          "name": "stdout",
          "output_type": "stream",
          "text": [
            "(440, 8)\n",
            "(440, 1)\n",
            "(110, 8)\n",
            "(110, 1)\n"
          ]
        }
      ],
      "source": [
        "x_train = df_train[['data_std', 'data_rms', 'data_skewness', 'data_peak', 'data_crest_factor', 'data_absolute_mean','data_impact_factor','data_square_mean_root']].values\n",
        "y_train = df_train[['label']].values\n",
        "x_test= df_test[['data_std', 'data_rms', 'data_skewness', 'data_peak', 'data_crest_factor', 'data_absolute_mean','data_impact_factor','data_square_mean_root']].values\n",
        "y_test=df_test[['label']].values\n",
        "print(x_train.shape)\n",
        "print(y_train.shape)\n",
        "print(x_test.shape)\n",
        "print(y_test.shape)\n"
      ]
    },
    {
      "cell_type": "code",
      "execution_count": 37,
      "metadata": {
        "colab": {
          "base_uri": "https://localhost:8080/",
          "height": 0
        },
        "id": "fS_oHoGuY-LR",
        "outputId": "076b8038-9405-4f25-c8ea-4e16952b886c"
      },
      "outputs": [
        {
          "name": "stdout",
          "output_type": "stream",
          "text": [
            "all number data :(550, 8)\n",
            "(440, 8)\n",
            "(440, 1)\n",
            "(110, 8)\n",
            "(110, 1)\n"
          ]
        }
      ],
      "source": [
        "X_combined = np.vstack((x_train, x_test))\n",
        "y_combined = np.vstack((y_train, y_test))\n",
        "\n",
        "print(f'all number data :{X_combined.shape}')\n",
        "\n",
        "X_train_combined, X_test_combined, y_train_combined, y_test_combined = train_test_split(X_combined, y_combined, test_size=0.2, random_state=4,shuffle=True)\n",
        "\n",
        "print(X_train_combined.shape)\n",
        "print(y_train_combined.shape)\n",
        "print(X_test_combined.shape)\n",
        "print(y_test_combined.shape)\n"
      ]
    },
    {
      "cell_type": "markdown",
      "metadata": {
        "id": "fhQ_kqtT3Chn"
      },
      "source": [
        "#2-4"
      ]
    },
    {
      "cell_type": "code",
      "execution_count": 40,
      "metadata": {
        "colab": {
          "base_uri": "https://localhost:8080/",
          "height": 0
        },
        "id": "FrH4Kgc23BqX",
        "outputId": "05c15007-a2fa-4561-8805-cc8e0f9e610b"
      },
      "outputs": [
        {
          "data": {
            "text/plain": [
              "array([[0.9268281 , 0.92647269, 0.74770877, ..., 0.94549034, 0.64898733,\n",
              "        0.49724141],\n",
              "       [0.03752549, 0.04275431, 0.02545544, ..., 0.05611712, 0.27864763,\n",
              "        0.15297233],\n",
              "       [0.07199871, 0.07542169, 0.09189845, ..., 0.09667823, 0.        ,\n",
              "        0.46477921],\n",
              "       ...,\n",
              "       [0.81736991, 0.81656711, 0.85319405, ..., 0.75613784, 0.8812877 ,\n",
              "        0.79632544],\n",
              "       [0.04160791, 0.04151545, 0.02847558, ..., 0.05024047, 0.41925232,\n",
              "        0.18045261],\n",
              "       [0.05895031, 0.05587228, 0.05306812, ..., 0.07169172, 0.7087954 ,\n",
              "        0.29564864]])"
            ]
          },
          "execution_count": 40,
          "metadata": {},
          "output_type": "execute_result"
        }
      ],
      "source": [
        "from sklearn.preprocessing import MinMaxScaler\n",
        "\n",
        "scaler = MinMaxScaler()\n",
        "\n",
        "X_train_scaled = scaler.fit_transform(X_train_combined)\n",
        "\n",
        "X_test_scaled = scaler.transform(X_test_combined)\n",
        "X_train_scaled"
      ]
    },
    {
      "cell_type": "code",
      "execution_count": 41,
      "metadata": {
        "colab": {
          "base_uri": "https://localhost:8080/",
          "height": 0
        },
        "id": "c1LEcSGL3GV0",
        "outputId": "a3099a12-01d2-4c30-d621-d56a2687874a"
      },
      "outputs": [
        {
          "data": {
            "text/plain": [
              "array([[ 1.20373693,  1.20460243,  0.97414882, ...,  1.30846264,\n",
              "         0.4321888 ,  0.45811652],\n",
              "       [-1.03718626, -1.0230429 , -1.00225776, ..., -1.02447505,\n",
              "        -1.77559198, -0.93790875],\n",
              "       [-0.95031837, -0.94069613, -0.8204401 , ..., -0.91807816,\n",
              "        -3.43675035,  0.32648097],\n",
              "       ...,\n",
              "       [ 0.92791699,  0.92755641,  1.2628035 , ...,  0.81176724,\n",
              "         1.81704782,  1.67091456],\n",
              "       [-1.02689911, -1.02616577, -0.99399332, ..., -1.03989023,\n",
              "        -0.9373769 , -0.82647509],\n",
              "       [-0.98319859, -0.98997559, -0.92669718, ..., -0.98362091,\n",
              "         0.78873468, -0.35935047]])"
            ]
          },
          "execution_count": 41,
          "metadata": {},
          "output_type": "execute_result"
        }
      ],
      "source": [
        "from sklearn.preprocessing import StandardScaler\n",
        "\n",
        "Standard_scaler = StandardScaler()\n",
        "\n",
        "X_train_Standardscaler = Standard_scaler.fit_transform(X_train_combined)\n",
        "\n",
        "X_test_Standardscaler = Standard_scaler.transform(X_test_combined)\n",
        "X_train_Standardscaler"
      ]
    },
    {
      "cell_type": "code",
      "execution_count": 43,
      "metadata": {
        "colab": {
          "base_uri": "https://localhost:8080/",
          "height": 0
        },
        "id": "Gz2tpVnJ3NrF",
        "outputId": "1d4a9c7f-b0d0-40d6-9c99-f56bb278c1f0"
      },
      "outputs": [
        {
          "name": "stdout",
          "output_type": "stream",
          "text": [
            "data_std                 1.381354\n",
            "data_rms                 1.383110\n",
            "data_skewness            1.668815\n",
            "data_peak                1.474924\n",
            "data_crest_factor        2.436574\n",
            "data_absolute_mean       1.539886\n",
            "data_impact_factor       2.543017\n",
            "data_square_mean_root    2.522856\n",
            "label                    2.000000\n",
            "dtype: float64\n",
            "\n",
            "data_std                -1.135715\n",
            "data_rms                -1.134556\n",
            "data_skewness           -1.076628\n",
            "data_peak               -1.159320\n",
            "data_crest_factor       -1.491256\n",
            "data_absolute_mean      -1.174171\n",
            "data_impact_factor      -3.468511\n",
            "data_square_mean_root   -1.577290\n",
            "label                    1.000000\n",
            "dtype: float64\n"
          ]
        }
      ],
      "source": [
        "print(df_train.max())\n",
        "print()\n",
        "print(df_train.min())"
      ]
    }
  ],
  "metadata": {
    "colab": {
      "provenance": []
    },
    "kernelspec": {
      "display_name": "Python 3",
      "name": "python3"
    },
    "language_info": {
      "name": "python"
    }
  },
  "nbformat": 4,
  "nbformat_minor": 0
}
