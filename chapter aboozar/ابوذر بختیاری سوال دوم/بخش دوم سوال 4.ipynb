{
  "cells": [
    {
      "cell_type": "code",
      "execution_count": 44,
      "metadata": {
        "id": "fD1I38wXkSn1"
      },
      "outputs": [],
      "source": [
        "#ابوذر بختیاری برزیده\n",
        "\n",
        "import scipy.io\n",
        "import numpy as np\n",
        "import pandas as pd\n",
        "import scipy.io as sio\n",
        "from scipy.signal import find_peaks\n",
        "from scipy.stats import kurtosis\n",
        "from sklearn.model_selection import train_test_split\n"
      ]
    },
    {
      "cell_type": "code",
      "execution_count": 75,
      "metadata": {
        "colab": {
          "base_uri": "https://localhost:8080/"
        },
        "id": "-zH2vnXtmlxl",
        "outputId": "3824e7c8-c190-472a-bce8-440dffa045f2"
      },
      "outputs": [
        {
          "name": "stdout",
          "output_type": "stream",
          "text": [
            "Drive already mounted at /content/drive; to attempt to forcibly remount, call drive.mount(\"/content/drive\", force_remount=True).\n",
            "Requirement already satisfied: gdown in /usr/local/lib/python3.10/dist-packages (5.1.0)\n",
            "Requirement already satisfied: beautifulsoup4 in /usr/local/lib/python3.10/dist-packages (from gdown) (4.12.3)\n",
            "Requirement already satisfied: filelock in /usr/local/lib/python3.10/dist-packages (from gdown) (3.13.4)\n",
            "Requirement already satisfied: requests[socks] in /usr/local/lib/python3.10/dist-packages (from gdown) (2.31.0)\n",
            "Requirement already satisfied: tqdm in /usr/local/lib/python3.10/dist-packages (from gdown) (4.66.2)\n",
            "Requirement already satisfied: soupsieve>1.2 in /usr/local/lib/python3.10/dist-packages (from beautifulsoup4->gdown) (2.5)\n",
            "Requirement already satisfied: charset-normalizer<4,>=2 in /usr/local/lib/python3.10/dist-packages (from requests[socks]->gdown) (3.3.2)\n",
            "Requirement already satisfied: idna<4,>=2.5 in /usr/local/lib/python3.10/dist-packages (from requests[socks]->gdown) (3.6)\n",
            "Requirement already satisfied: urllib3<3,>=1.21.1 in /usr/local/lib/python3.10/dist-packages (from requests[socks]->gdown) (2.0.7)\n",
            "Requirement already satisfied: certifi>=2017.4.17 in /usr/local/lib/python3.10/dist-packages (from requests[socks]->gdown) (2024.2.2)\n",
            "Requirement already satisfied: PySocks!=1.5.7,>=1.5.6 in /usr/local/lib/python3.10/dist-packages (from requests[socks]->gdown) (1.7.1)\n",
            "/usr/local/lib/python3.10/dist-packages/gdown/download.py:32: MarkupResemblesLocatorWarning: The input looks more like a filename than markup. You may want to open this file and pass the filehandle into Beautiful Soup.\n",
            "  soup = bs4.BeautifulSoup(line, features=\"html.parser\")\n",
            "Failed to retrieve file url:\n",
            "\n",
            "\tCannot retrieve the public link of the file. You may need to change\n",
            "\tthe permission to 'Anyone with the link', or have had many accesses.\n",
            "\tCheck FAQ in https://github.com/wkentaro/gdown?tab=readme-ov-file#faq.\n",
            "\n",
            "You may still be able to access the file from the browser:\n",
            "\n",
            "\thttps://drive.google.com/uc?id=15CfPVJJlfJajLqXYvIf1ObkqrLiWAp45\n",
            "\n",
            "but Gdown can't. Please check connections and permissions.\n"
          ]
        }
      ],
      "source": [
        "from google.colab import drive\n",
        "drive.mount('/content/drive')\n",
        "!pip install --upgrade --no-cache-dir gdown\n",
        "!gdown 15CfPVJJlfJajLqXYvIf1ObkqrLiWAp45\n",
        "#https://drive.google.com/drive/folders/15CfPVJJlfJajLqXYvIf1ObkqrLiWAp45?usp=sharing\n"
      ]
    },
    {
      "cell_type": "code",
      "execution_count": 76,
      "metadata": {
        "colab": {
          "base_uri": "https://localhost:8080/"
        },
        "id": "Slz7pg27lUMW",
        "outputId": "bb33b510-2b08-4c62-afbf-7c626bc320da"
      },
      "outputs": [
        {
          "name": "stdout",
          "output_type": "stream",
          "text": [
            "(110, 9)\n",
            "(3960,)\n",
            "Index(['Feature 1', 'Feature 2', 'Feature 3', 'Feature 4', 'Feature 5',\n",
            "       'Feature 6', 'Feature 7', 'Feature 8', 'Label'],\n",
            "      dtype='object')\n"
          ]
        }
      ],
      "source": [
        "# Load data from .mat files\n",
        "X = pd.read_csv('/content/drive/MyDrive/machine-learning/mini project 1/2-1/test_data.csv')\n",
        "y = pd.read_csv('/content/drive/MyDrive/machine-learning/mini project 1/2-1/train_data.csv')\n",
        "y= y.values.ravel()\n",
        "print(X.shape)\n",
        "print(y.shape)\n",
        "print(X.columns)"
      ]
    },
    {
      "cell_type": "markdown",
      "metadata": {
        "id": "fhQ_kqtT3Chn"
      },
      "source": [
        "#2-4"
      ]
    },
    {
      "cell_type": "code",
      "execution_count": 114,
      "metadata": {
        "colab": {
          "base_uri": "https://localhost:8080/"
        },
        "id": "FrH4Kgc23BqX",
        "outputId": "6b2ef2bc-050d-44f2-adbd-a73acb10f446"
      },
      "outputs": [
        {
          "data": {
            "text/plain": [
              "array([[0.9268281 , 0.92647269, 0.74770877, ..., 0.94549034, 0.64898733,\n",
              "        0.49724141],\n",
              "       [0.03752549, 0.04275431, 0.02545544, ..., 0.05611712, 0.27864763,\n",
              "        0.15297233],\n",
              "       [0.07199871, 0.07542169, 0.09189845, ..., 0.09667823, 0.        ,\n",
              "        0.46477921],\n",
              "       ...,\n",
              "       [0.81736991, 0.81656711, 0.85319405, ..., 0.75613784, 0.8812877 ,\n",
              "        0.79632544],\n",
              "       [0.04160791, 0.04151545, 0.02847558, ..., 0.05024047, 0.41925232,\n",
              "        0.18045261],\n",
              "       [0.05895031, 0.05587228, 0.05306812, ..., 0.07169172, 0.7087954 ,\n",
              "        0.29564864]])"
            ]
          },
          "execution_count": 114,
          "metadata": {},
          "output_type": "execute_result"
        }
      ],
      "source": [
        "from sklearn.preprocessing import MinMaxScaler\n",
        "\n",
        "# Create an instance of MinMaxScaler\n",
        "scaler = MinMaxScaler()\n",
        "\n",
        "# Fit the scaler on the training data and transform it\n",
        "X_train_scaled = scaler.fit_transform(X_train_combined)\n",
        "\n",
        "# Use the same scaler to transform the test data\n",
        "X_test_scaled = scaler.transform(X_test_combined)\n",
        "X_train_scaled"
      ]
    },
    {
      "cell_type": "code",
      "execution_count": 115,
      "metadata": {
        "colab": {
          "base_uri": "https://localhost:8080/"
        },
        "id": "c1LEcSGL3GV0",
        "outputId": "0068bd2b-2155-43e8-8926-83d0c8fffc84"
      },
      "outputs": [
        {
          "data": {
            "text/plain": [
              "array([[ 1.20373693,  1.20460243,  0.97414882, ...,  1.30846264,\n",
              "         0.4321888 ,  0.45811652],\n",
              "       [-1.03718626, -1.0230429 , -1.00225776, ..., -1.02447505,\n",
              "        -1.77559198, -0.93790875],\n",
              "       [-0.95031837, -0.94069613, -0.8204401 , ..., -0.91807816,\n",
              "        -3.43675035,  0.32648097],\n",
              "       ...,\n",
              "       [ 0.92791699,  0.92755641,  1.2628035 , ...,  0.81176724,\n",
              "         1.81704782,  1.67091456],\n",
              "       [-1.02689911, -1.02616577, -0.99399332, ..., -1.03989023,\n",
              "        -0.9373769 , -0.82647509],\n",
              "       [-0.98319859, -0.98997559, -0.92669718, ..., -0.98362091,\n",
              "         0.78873468, -0.35935047]])"
            ]
          },
          "execution_count": 115,
          "metadata": {},
          "output_type": "execute_result"
        }
      ],
      "source": [
        "from sklearn.preprocessing import StandardScaler\n",
        "\n",
        "# Create an instance of StandardScaler\n",
        "Standard_scaler = StandardScaler()\n",
        "\n",
        "# Fit the scaler on the training data and transform it\n",
        "X_train_Standardscaler = Standard_scaler.fit_transform(X_train_combined)\n",
        "\n",
        "# Use the same scaler to transform the test data\n",
        "X_test_Standardscaler = Standard_scaler.transform(X_test_combined)\n",
        "X_train_Standardscaler"
      ]
    },
    {
      "cell_type": "code",
      "execution_count": 101,
      "metadata": {
        "colab": {
          "base_uri": "https://localhost:8080/"
        },
        "id": "Gz2tpVnJ3NrF",
        "outputId": "095ec88a-81ad-4161-d8e6-a755579d6713"
      },
      "outputs": [
        {
          "name": "stdout",
          "output_type": "stream",
          "text": [
            "data_std                 1.381354\n",
            "data_rms                 1.383110\n",
            "data_skewness            1.668815\n",
            "data_peak                1.474924\n",
            "data_crest_factor        2.436574\n",
            "data_absolute_mean       1.539886\n",
            "data_impact_factor       2.543017\n",
            "data_square_mean_root    2.522856\n",
            "label                    1.000000\n",
            "dtype: float64\n",
            "\n",
            "data_std                -1.135715\n",
            "data_rms                -1.134556\n",
            "data_skewness           -1.076628\n",
            "data_peak               -1.159320\n",
            "data_crest_factor       -1.491256\n",
            "data_absolute_mean      -1.174171\n",
            "data_impact_factor      -3.468511\n",
            "data_square_mean_root   -1.577290\n",
            "label                    0.000000\n",
            "dtype: float64\n"
          ]
        }
      ],
      "source": [
        "print(df_train.max())\n",
        "print()\n",
        "print(df_train.min())"
      ]
    }
  ],
  "metadata": {
    "colab": {
      "provenance": []
    },
    "kernelspec": {
      "display_name": "Python 3",
      "name": "python3"
    },
    "language_info": {
      "name": "python"
    }
  },
  "nbformat": 4,
  "nbformat_minor": 0
}
